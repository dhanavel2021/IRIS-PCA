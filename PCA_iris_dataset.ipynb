{
  "nbformat": 4,
  "nbformat_minor": 0,
  "metadata": {
    "colab": {
      "name": "PCA iris dataset.ipynb",
      "provenance": [],
      "collapsed_sections": [],
      "authorship_tag": "ABX9TyMLX86Qd0T4EKAxfn81SsbW",
      "include_colab_link": true
    },
    "kernelspec": {
      "name": "python3",
      "display_name": "Python 3"
    },
    "language_info": {
      "name": "python"
    }
  },
  "cells": [
    {
      "cell_type": "markdown",
      "metadata": {
        "id": "view-in-github",
        "colab_type": "text"
      },
      "source": [
        "<a href=\"https://colab.research.google.com/github/dhanavel2021/IRIS-PCA/blob/main/PCA_iris_dataset.ipynb\" target=\"_parent\"><img src=\"https://colab.research.google.com/assets/colab-badge.svg\" alt=\"Open In Colab\"/></a>"
      ]
    },
    {
      "cell_type": "code",
      "execution_count": 1,
      "metadata": {
        "id": "JZwKMPK-RsbD"
      },
      "outputs": [],
      "source": [
        "import sklearn\n",
        "from sklearn.datasets import load_iris"
      ]
    },
    {
      "cell_type": "code",
      "source": [
        "df=load_iris()"
      ],
      "metadata": {
        "id": "dUTdHN4yR8wx"
      },
      "execution_count": 3,
      "outputs": []
    },
    {
      "cell_type": "code",
      "source": [
        "df.keys"
      ],
      "metadata": {
        "colab": {
          "base_uri": "https://localhost:8080/"
        },
        "id": "rlFiVWRhSDRn",
        "outputId": "7a491979-b204-47c1-ec60-1ff4d5ff6b9d"
      },
      "execution_count": 11,
      "outputs": [
        {
          "output_type": "execute_result",
          "data": {
            "text/plain": [
              "<function Bunch.keys>"
            ]
          },
          "metadata": {},
          "execution_count": 11
        }
      ]
    },
    {
      "cell_type": "code",
      "source": [
        "x=df.data"
      ],
      "metadata": {
        "id": "yvGi3qJiSI_q"
      },
      "execution_count": 12,
      "outputs": []
    },
    {
      "cell_type": "code",
      "source": [
        "y=df.target"
      ],
      "metadata": {
        "id": "apVyddpxSMFd"
      },
      "execution_count": 13,
      "outputs": []
    },
    {
      "cell_type": "code",
      "source": [
        "from sklearn.model_selection import train_test_split"
      ],
      "metadata": {
        "id": "T0ohv8vYSlmn"
      },
      "execution_count": 14,
      "outputs": []
    },
    {
      "cell_type": "code",
      "source": [
        "xtrain,xtest,ytrain,ytest=train_test_split(x,y,test_size=.30,random_state=0)"
      ],
      "metadata": {
        "id": "twLFt7CbSrOn"
      },
      "execution_count": 35,
      "outputs": []
    },
    {
      "cell_type": "code",
      "source": [
        "xtrain.shape,xtest.shape,ytrain.shape,ytest.shape"
      ],
      "metadata": {
        "colab": {
          "base_uri": "https://localhost:8080/"
        },
        "id": "QiBMLoSuS45E",
        "outputId": "e556f489-a889-46fc-f580-0f83650ccc0d"
      },
      "execution_count": 36,
      "outputs": [
        {
          "output_type": "execute_result",
          "data": {
            "text/plain": [
              "((105, 4), (45, 4), (105,), (45,))"
            ]
          },
          "metadata": {},
          "execution_count": 36
        }
      ]
    },
    {
      "cell_type": "code",
      "source": [
        "from sklearn.linear_model import LogisticRegression\n",
        "m=LogisticRegression()"
      ],
      "metadata": {
        "id": "bvKEXbgUTLnE"
      },
      "execution_count": 37,
      "outputs": []
    },
    {
      "cell_type": "code",
      "source": [
        "m.fit(xtrain,ytrain)"
      ],
      "metadata": {
        "colab": {
          "base_uri": "https://localhost:8080/"
        },
        "id": "Db8wf8hrTdaN",
        "outputId": "257f740a-c585-4795-e7bf-839d07a08c6a"
      },
      "execution_count": 38,
      "outputs": [
        {
          "output_type": "execute_result",
          "data": {
            "text/plain": [
              "LogisticRegression()"
            ]
          },
          "metadata": {},
          "execution_count": 38
        }
      ]
    },
    {
      "cell_type": "code",
      "source": [
        "p=m.predict(xtest)"
      ],
      "metadata": {
        "id": "uIIo_ZgPToJY"
      },
      "execution_count": 39,
      "outputs": []
    },
    {
      "cell_type": "code",
      "source": [
        "m.predict_proba(xtest)"
      ],
      "metadata": {
        "colab": {
          "base_uri": "https://localhost:8080/"
        },
        "id": "TZJtgNUBTqt0",
        "outputId": "eb59cfb1-559a-44eb-8dbb-e07599a7ed96"
      },
      "execution_count": 40,
      "outputs": [
        {
          "output_type": "execute_result",
          "data": {
            "text/plain": [
              "array([[1.31706500e-04, 5.98487863e-02, 9.40019507e-01],\n",
              "       [1.33560305e-02, 9.57042398e-01, 2.96015716e-02],\n",
              "       [9.82927069e-01, 1.70728750e-02, 5.56552784e-08],\n",
              "       [1.60475231e-06, 2.60797382e-02, 9.73918657e-01],\n",
              "       [9.68275977e-01, 3.17237870e-02, 2.35580383e-07],\n",
              "       [2.47741185e-06, 6.75427973e-03, 9.93243243e-01],\n",
              "       [9.80358972e-01, 1.96409253e-02, 1.03121279e-07],\n",
              "       [3.00889185e-03, 7.50152838e-01, 2.46838270e-01],\n",
              "       [1.62299829e-03, 7.41285889e-01, 2.57091113e-01],\n",
              "       [2.11382615e-02, 9.32799336e-01, 4.60624024e-02],\n",
              "       [1.02516222e-04, 1.57157862e-01, 8.42739621e-01],\n",
              "       [7.26634294e-03, 8.08697832e-01, 1.84035825e-01],\n",
              "       [4.34725649e-03, 7.83988017e-01, 2.11664726e-01],\n",
              "       [3.23107741e-03, 7.61208203e-01, 2.35560719e-01],\n",
              "       [4.09199518e-03, 7.03026910e-01, 2.92881095e-01],\n",
              "       [9.81573473e-01, 1.84264433e-02, 8.41349989e-08],\n",
              "       [7.01108653e-03, 7.50157089e-01, 2.42831825e-01],\n",
              "       [1.20104312e-02, 8.31518802e-01, 1.56470767e-01],\n",
              "       [9.65461853e-01, 3.45378359e-02, 3.11193572e-07],\n",
              "       [9.81135187e-01, 1.88647278e-02, 8.54092497e-08],\n",
              "       [8.83807425e-04, 1.93958376e-01, 8.05157816e-01],\n",
              "       [1.06511931e-02, 6.98589369e-01, 2.90759438e-01],\n",
              "       [9.41813637e-01, 5.81848700e-02, 1.49339392e-06],\n",
              "       [9.74091671e-01, 2.59080781e-02, 2.50953672e-07],\n",
              "       [1.46226788e-03, 4.31295487e-01, 5.67242245e-01],\n",
              "       [9.93623541e-01, 6.37644434e-03, 1.49740324e-08],\n",
              "       [9.47224042e-01, 5.27743830e-02, 1.57457211e-06],\n",
              "       [1.11665747e-02, 8.96758437e-01, 9.20749887e-02],\n",
              "       [1.43551050e-01, 8.49015436e-01, 7.43351413e-03],\n",
              "       [9.58858972e-01, 4.11403908e-02, 6.36808830e-07],\n",
              "       [1.12318668e-04, 1.20430997e-01, 8.79456684e-01],\n",
              "       [1.23022445e-02, 6.68292270e-01, 3.19405486e-01],\n",
              "       [9.65858407e-01, 3.41413776e-02, 2.15278842e-07],\n",
              "       [1.37179791e-03, 3.61179147e-01, 6.37449055e-01],\n",
              "       [1.76633960e-05, 3.70570383e-02, 9.62925298e-01],\n",
              "       [4.90686847e-02, 8.72312412e-01, 7.86189035e-02],\n",
              "       [9.40784207e-01, 5.92152588e-02, 5.34604593e-07],\n",
              "       [6.49666284e-04, 3.08766119e-01, 6.90584215e-01],\n",
              "       [1.82161978e-02, 8.55201097e-01, 1.26582706e-01],\n",
              "       [2.30450029e-02, 9.29719259e-01, 4.72357384e-02],\n",
              "       [4.21988215e-05, 8.12519383e-02, 9.18705863e-01],\n",
              "       [9.79914465e-01, 2.00854241e-02, 1.11274994e-07],\n",
              "       [1.76203115e-04, 1.55994621e-01, 8.43829176e-01],\n",
              "       [9.60729377e-01, 3.92696853e-02, 9.37947243e-07],\n",
              "       [9.67043752e-01, 3.29560755e-02, 1.72049057e-07]])"
            ]
          },
          "metadata": {},
          "execution_count": 40
        }
      ]
    },
    {
      "cell_type": "code",
      "source": [
        "from sklearn.metrics import accuracy_score, classification_report, confusion_matrix\n",
        "accuracy_score(ytest,p)"
      ],
      "metadata": {
        "colab": {
          "base_uri": "https://localhost:8080/"
        },
        "id": "uR5o51xOTu3l",
        "outputId": "3e32a39f-1652-482b-be73-b9207f1b4787"
      },
      "execution_count": 41,
      "outputs": [
        {
          "output_type": "execute_result",
          "data": {
            "text/plain": [
              "0.9777777777777777"
            ]
          },
          "metadata": {},
          "execution_count": 41
        }
      ]
    },
    {
      "cell_type": "code",
      "source": [
        "classification_report(ytest,p)"
      ],
      "metadata": {
        "colab": {
          "base_uri": "https://localhost:8080/",
          "height": 70
        },
        "id": "RnFiEzTGT-v3",
        "outputId": "33739c4a-28e4-45f6-b9e0-4695562dfa8b"
      },
      "execution_count": 26,
      "outputs": [
        {
          "output_type": "execute_result",
          "data": {
            "text/plain": [
              "'              precision    recall  f1-score   support\\n\\n           0       1.00      1.00      1.00        16\\n           1       1.00      0.94      0.97        18\\n           2       0.92      1.00      0.96        11\\n\\n    accuracy                           0.98        45\\n   macro avg       0.97      0.98      0.98        45\\nweighted avg       0.98      0.98      0.98        45\\n'"
            ],
            "application/vnd.google.colaboratory.intrinsic+json": {
              "type": "string"
            }
          },
          "metadata": {},
          "execution_count": 26
        }
      ]
    },
    {
      "cell_type": "code",
      "source": [
        "confusion_matrix(ytest,p)"
      ],
      "metadata": {
        "colab": {
          "base_uri": "https://localhost:8080/"
        },
        "id": "dds67XwwUB04",
        "outputId": "b6ed3750-54a8-4dc4-b480-ba9c05e6ddf9"
      },
      "execution_count": 27,
      "outputs": [
        {
          "output_type": "execute_result",
          "data": {
            "text/plain": [
              "array([[16,  0,  0],\n",
              "       [ 0, 17,  1],\n",
              "       [ 0,  0, 11]])"
            ]
          },
          "metadata": {},
          "execution_count": 27
        }
      ]
    },
    {
      "cell_type": "code",
      "source": [
        "from sklearn.decomposition import PCA\n",
        "pc=PCA(n_components=.95)"
      ],
      "metadata": {
        "id": "ClInBvsLUFPy"
      },
      "execution_count": 43,
      "outputs": []
    },
    {
      "cell_type": "code",
      "source": [
        "pc.fit(xtrain)"
      ],
      "metadata": {
        "colab": {
          "base_uri": "https://localhost:8080/"
        },
        "id": "lgeaT9O3VHtP",
        "outputId": "ca72f935-7be7-4ebe-f89c-556b29ea3881"
      },
      "execution_count": 44,
      "outputs": [
        {
          "output_type": "execute_result",
          "data": {
            "text/plain": [
              "PCA(n_components=0.95)"
            ]
          },
          "metadata": {},
          "execution_count": 44
        }
      ]
    },
    {
      "cell_type": "code",
      "source": [
        "x_train_transfomed=pc.transform(xtrain)"
      ],
      "metadata": {
        "id": "ZDAUolfMVjTU"
      },
      "execution_count": 45,
      "outputs": []
    },
    {
      "cell_type": "code",
      "source": [
        "print(x_train_transfomed)"
      ],
      "metadata": {
        "colab": {
          "base_uri": "https://localhost:8080/"
        },
        "id": "9e-xCqHSVq45",
        "outputId": "6142d8d5-3f82-46d4-9f9d-871284462de2"
      },
      "execution_count": 47,
      "outputs": [
        {
          "output_type": "stream",
          "name": "stdout",
          "text": [
            "[[-0.63232821 -1.26545546]\n",
            " [ 1.86026116 -0.0121644 ]\n",
            " [ 2.33771697  0.24090294]\n",
            " [ 1.18895165 -0.80972518]\n",
            " [ 2.22289331 -0.31972369]\n",
            " [-0.06107111 -0.59599181]\n",
            " [ 3.00314688  0.58256709]\n",
            " [ 1.01283077  0.2537618 ]\n",
            " [-0.17764817 -0.71549087]\n",
            " [ 1.29275779 -0.25322577]\n",
            " [ 1.34935406 -0.18815532]\n",
            " [ 0.40061492 -1.19543001]\n",
            " [ 1.42639154 -0.43126118]\n",
            " [ 1.21171098  0.63256942]\n",
            " [ 1.67636089  0.02534218]\n",
            " [ 0.72295033  0.17874934]\n",
            " [-2.68209086 -0.14140641]\n",
            " [ 1.31021647 -0.61064053]\n",
            " [ 0.25338762 -0.51766116]\n",
            " [-0.2702904  -0.25665173]\n",
            " [ 0.05797056 -0.69426981]\n",
            " [ 0.79956717 -0.06150372]\n",
            " [ 2.53760985  0.48373469]\n",
            " [-2.61655382  0.64163994]\n",
            " [-3.32609967 -0.42829832]\n",
            " [ 1.70697835 -0.27300131]\n",
            " [ 0.23633093 -0.22012669]\n",
            " [-2.389488    0.44095671]\n",
            " [-2.43830487  1.40186666]\n",
            " [ 1.38644767  0.44925415]\n",
            " [-2.84273474 -0.24783656]\n",
            " [ 1.29315978 -0.31310606]\n",
            " [-1.01628419 -0.7428001 ]\n",
            " [-2.91108926 -0.01188253]\n",
            " [ 0.83857701 -0.59320235]\n",
            " [ 2.84809203  0.70583026]\n",
            " [ 0.27846518 -0.30435494]\n",
            " [-2.8819051  -0.17139735]\n",
            " [ 2.53477602  0.26246762]\n",
            " [ 2.34791187  0.30776325]\n",
            " [ 2.25898839 -0.10229026]\n",
            " [ 2.02776683 -0.27012903]\n",
            " [-2.61318795  0.5739706 ]\n",
            " [-2.70108012  0.08496871]\n",
            " [ 1.57853163  0.19460771]\n",
            " [ 2.194499    0.27598245]\n",
            " [-2.96436878 -0.88596534]\n",
            " [ 1.81558366  0.0770001 ]\n",
            " [-2.80836355 -0.11777776]\n",
            " [ 1.23577365 -0.81436784]\n",
            " [ 2.02712338  0.30489097]\n",
            " [-3.09487812 -0.26045955]\n",
            " [-2.80860501  0.39736195]\n",
            " [ 2.30832087  0.38705526]\n",
            " [-2.7287337   0.37552316]\n",
            " [-3.08221861 -0.4113763 ]\n",
            " [-2.34952778  0.80070883]\n",
            " [ 0.07063007 -0.84518656]\n",
            " [ 2.48051431  0.20867623]\n",
            " [ 3.3196496   0.44597348]\n",
            " [-2.76453819  0.38429304]\n",
            " [-2.72952355 -0.06066817]\n",
            " [-2.72047138  0.37122413]\n",
            " [ 0.54030419 -0.43485966]\n",
            " [ 0.81791298  0.28714116]\n",
            " [-2.9536255   0.13222601]\n",
            " [-2.38895595  0.15202031]\n",
            " [ 0.62779437  0.11402252]\n",
            " [-2.48821852  0.46011452]\n",
            " [ 3.70982392  0.13394334]\n",
            " [-0.8657238  -0.98931387]\n",
            " [ 3.17607876  1.28227631]\n",
            " [ 0.84932029  0.424989  ]\n",
            " [-2.71541439  0.88985385]\n",
            " [ 1.07538758 -0.19567025]\n",
            " [-2.70236703  1.23500872]\n",
            " [ 3.41941143  0.34786729]\n",
            " [-2.66255321  0.58354951]\n",
            " [-2.72615768 -0.1283375 ]\n",
            " [ 2.75937724  0.27956146]\n",
            " [-2.78961575  0.17098683]\n",
            " [ 2.05946472  0.09392212]\n",
            " [ 0.19962518 -0.36146454]\n",
            " [ 0.037548   -0.32906601]\n",
            " [-0.4061473  -0.37597897]\n",
            " [ 1.81854754  0.06921105]\n",
            " [ 1.85924849  0.12381147]\n",
            " [ 1.19800382 -0.37783288]\n",
            " [ 1.47408203  0.21312831]\n",
            " [-2.60028698 -0.09208586]\n",
            " [-0.29862241 -0.68837221]\n",
            " [ 2.22940223  0.11710485]\n",
            " [ 1.31021647 -0.61064053]\n",
            " [-2.67303869  0.29048588]\n",
            " [ 0.95877775  0.1837551 ]\n",
            " [ 0.14922861 -0.27293725]\n",
            " [ 1.02499101 -0.10714297]\n",
            " [ 0.71320558 -0.41946597]\n",
            " [-2.6987597   0.65219967]\n",
            " [-2.62041897  0.49932125]\n",
            " [-2.76532804 -0.05189829]\n",
            " [ 1.87628654 -0.23075048]\n",
            " [ 0.13627852 -0.34822381]\n",
            " [ 3.42772287  1.08491128]\n",
            " [-2.93423424 -0.1540294 ]]\n"
          ]
        }
      ]
    },
    {
      "cell_type": "code",
      "source": [
        "x_test_transfomed=pc.transform(xtest)"
      ],
      "metadata": {
        "id": "CTworvgwWAi8"
      },
      "execution_count": 50,
      "outputs": []
    },
    {
      "cell_type": "code",
      "source": [
        "x_test_transfomed"
      ],
      "metadata": {
        "colab": {
          "base_uri": "https://localhost:8080/"
        },
        "id": "FHRmd2CdXA0z",
        "outputId": "50756171-d9c0-4ee2-ad17-6e6ce9752fa9"
      },
      "execution_count": 51,
      "outputs": [
        {
          "output_type": "execute_result",
          "data": {
            "text/plain": [
              "array([[ 1.48290917e+00, -5.79031544e-01],\n",
              "       [ 1.58231664e-01, -5.82387982e-01],\n",
              "       [-2.65789822e+00,  1.16205952e+00],\n",
              "       [ 2.84984543e+00,  2.64702689e-01],\n",
              "       [-2.71077575e+00,  2.28096421e-01],\n",
              "       [ 2.44227798e+00, -6.37012546e-02],\n",
              "       [-2.85164052e+00,  3.31482478e-01],\n",
              "       [ 1.14063404e+00,  3.61172780e-01],\n",
              "       [ 1.24672562e+00,  1.87608217e-01],\n",
              "       [ 2.65403677e-01, -9.35579051e-02],\n",
              "       [ 1.67658371e+00, -5.46825020e-01],\n",
              "       [ 8.50753593e-01,  2.86160326e-01],\n",
              "       [ 8.25787452e-01, -2.13229489e-01],\n",
              "       [ 9.98979424e-01,  2.83675090e-02],\n",
              "       [ 8.91066681e-01, -1.55310871e-01],\n",
              "       [-2.88214656e+00,  3.43742366e-01],\n",
              "       [ 7.18794606e-01, -1.89772653e-01],\n",
              "       [ 3.56515328e-01, -6.83436678e-01],\n",
              "       [-2.81029612e+00, -1.88937104e-01],\n",
              "       [-2.69020679e+00,  8.74103953e-01],\n",
              "       [ 1.09387758e+00, -6.32033396e-01],\n",
              "       [ 5.61516602e-01, -3.63872131e-01],\n",
              "       [-2.44557087e+00,  2.99223727e-02],\n",
              "       [-2.99071911e+00, -5.05183454e-01],\n",
              "       [ 1.16352122e+00, -2.21808078e-01],\n",
              "       [-3.30023227e+00,  2.21199219e-01],\n",
              "       [-2.28606971e+00,  5.01384505e-01],\n",
              "       [ 5.52320243e-01, -1.07564079e-02],\n",
              "       [-8.21656981e-01, -1.00238278e+00],\n",
              "       [-2.55399701e+00,  1.92207883e-01],\n",
              "       [ 1.81619435e+00,  9.04511165e-04],\n",
              "       [ 4.86042477e-01, -4.88651058e-01],\n",
              "       [-2.64163138e+00,  4.28333723e-01],\n",
              "       [ 1.19829440e+00, -1.51629572e-01],\n",
              "       [ 2.06357133e+00, -2.78898908e-01],\n",
              "       [-1.17265392e-01, -7.20942549e-01],\n",
              "       [-2.26579133e+00,  9.21188725e-01],\n",
              "       [ 1.27827712e+00, -4.59551963e-01],\n",
              "       [ 4.19218532e-01, -1.21657400e-01],\n",
              "       [ 1.29047506e-01, -4.22873167e-01],\n",
              "       [ 2.08088582e+00,  1.48694354e-01],\n",
              "       [-2.98166693e+00, -7.32911583e-02],\n",
              "       [ 1.84322311e+00,  3.42397557e-01],\n",
              "       [-2.48871779e+00,  2.50126501e-01],\n",
              "       [-2.57881676e+00,  7.04029399e-01]])"
            ]
          },
          "metadata": {},
          "execution_count": 51
        }
      ]
    },
    {
      "cell_type": "code",
      "source": [
        "nm=LogisticRegression(penalty='l1',solver='liblinear')\n",
        "nm.fit(x_train_transfomed,ytrain)"
      ],
      "metadata": {
        "colab": {
          "base_uri": "https://localhost:8080/"
        },
        "id": "RS8wNZC3XRsO",
        "outputId": "5254dea8-cc07-4e22-94bb-56e07a769fb1"
      },
      "execution_count": 55,
      "outputs": [
        {
          "output_type": "execute_result",
          "data": {
            "text/plain": [
              "LogisticRegression(penalty='l1', solver='liblinear')"
            ]
          },
          "metadata": {},
          "execution_count": 55
        }
      ]
    },
    {
      "cell_type": "code",
      "source": [
        "np=nm.predict(x_test_transfomed)"
      ],
      "metadata": {
        "id": "M8lKRKgqXhiU"
      },
      "execution_count": 60,
      "outputs": []
    },
    {
      "cell_type": "code",
      "source": [
        "nm.predict_proba(x_test_transfomed)"
      ],
      "metadata": {
        "colab": {
          "base_uri": "https://localhost:8080/"
        },
        "id": "KJG3eO4yXxpp",
        "outputId": "1e43097b-9b58-4c60-d2bb-064a79f299e8"
      },
      "execution_count": 58,
      "outputs": [
        {
          "output_type": "execute_result",
          "data": {
            "text/plain": [
              "array([[8.94119071e-04, 3.83297627e-01, 6.15808254e-01],\n",
              "       [4.89216268e-02, 8.21478229e-01, 1.29600144e-01],\n",
              "       [9.58746474e-01, 4.12533101e-02, 2.15790294e-07],\n",
              "       [7.90700393e-05, 2.23984160e-01, 7.75936770e-01],\n",
              "       [8.59767501e-01, 1.40231579e-01, 9.19681721e-07],\n",
              "       [1.47010034e-04, 2.82175639e-01, 7.17677351e-01],\n",
              "       [8.78046411e-01, 1.21953113e-01, 4.76159355e-07],\n",
              "       [1.27500225e-02, 4.06754993e-01, 5.80494985e-01],\n",
              "       [6.06799965e-03, 3.61285801e-01, 6.32646199e-01],\n",
              "       [8.67381156e-02, 7.95828067e-01, 1.17433817e-01],\n",
              "       [5.61736790e-04, 3.69010764e-01, 6.30427499e-01],\n",
              "       [3.15606800e-02, 5.71591412e-01, 3.96847909e-01],\n",
              "       [1.22816267e-02, 5.56490131e-01, 4.31228242e-01],\n",
              "       [1.08048150e-02, 4.76187677e-01, 5.13007508e-01],\n",
              "       [1.09764182e-02, 5.25345992e-01, 4.63677589e-01],\n",
              "       [8.80301259e-01, 1.19698321e-01, 4.20038658e-07],\n",
              "       [1.85113755e-02, 6.16848134e-01, 3.64640490e-01],\n",
              "       [2.34195371e-02, 7.45795754e-01, 2.30784709e-01],\n",
              "       [7.86892850e-01, 2.13105849e-01, 1.30015385e-06],\n",
              "       [9.38284291e-01, 6.17153858e-02, 3.22985404e-07],\n",
              "       [2.47958325e-03, 4.43079504e-01, 5.54440912e-01],\n",
              "       [2.21094944e-02, 6.84175765e-01, 2.93714741e-01],\n",
              "       [8.19058615e-01, 1.80938187e-01, 3.19738520e-06],\n",
              "       [7.28536238e-01, 2.71462598e-01, 1.16385993e-06],\n",
              "       [3.83983250e-03, 4.07990639e-01, 5.88169528e-01],\n",
              "       [8.68519350e-01, 1.31480526e-01, 1.23661767e-07],\n",
              "       [8.92008299e-01, 1.07989196e-01, 2.50508719e-06],\n",
              "       [4.53093128e-02, 7.13597431e-01, 2.41093257e-01],\n",
              "       [2.24504134e-01, 7.67517855e-01, 7.97801134e-03],\n",
              "       [8.50651301e-01, 1.49347023e-01, 1.67635510e-06],\n",
              "       [7.77179329e-04, 2.77282694e-01, 7.21940127e-01],\n",
              "       [2.22432301e-02, 7.08474607e-01, 2.69282163e-01],\n",
              "       [8.88386417e-01, 1.11612753e-01, 8.30466784e-07],\n",
              "       [3.86500178e-03, 3.93787147e-01, 6.02347851e-01],\n",
              "       [2.91429285e-04, 3.20056133e-01, 6.79652437e-01],\n",
              "       [7.88317014e-02, 8.56016054e-01, 6.51522447e-02],\n",
              "       [9.38067156e-01, 6.19315591e-02, 1.28456315e-06],\n",
              "       [1.85384216e-03, 3.95290890e-01, 6.02855268e-01],\n",
              "       [5.41367956e-02, 7.61168526e-01, 1.84694678e-01],\n",
              "       [6.90118944e-02, 8.27829635e-01, 1.03158470e-01],\n",
              "       [4.67142727e-04, 2.42581014e-01, 7.56951843e-01],\n",
              "       [8.12847591e-01, 1.87151810e-01, 5.98584010e-07],\n",
              "       [1.13887945e-03, 2.20174374e-01, 7.78686747e-01],\n",
              "       [8.58752671e-01, 1.41245423e-01, 1.90549952e-06],\n",
              "       [9.20934834e-01, 7.90645272e-02, 6.39317164e-07]])"
            ]
          },
          "metadata": {},
          "execution_count": 58
        }
      ]
    },
    {
      "cell_type": "code",
      "source": [
        "accuracy_score(ytest,np)"
      ],
      "metadata": {
        "colab": {
          "base_uri": "https://localhost:8080/"
        },
        "id": "0KRyuiyYX5hI",
        "outputId": "02cb3eeb-1acb-4807-d7f2-92c0826e49eb"
      },
      "execution_count": 61,
      "outputs": [
        {
          "output_type": "execute_result",
          "data": {
            "text/plain": [
              "0.9111111111111111"
            ]
          },
          "metadata": {},
          "execution_count": 61
        }
      ]
    },
    {
      "cell_type": "code",
      "source": [
        "z=classification_report(ytest,np)"
      ],
      "metadata": {
        "id": "w7Om_3XyYRH9"
      },
      "execution_count": 62,
      "outputs": []
    },
    {
      "cell_type": "code",
      "source": [
        "print(z)"
      ],
      "metadata": {
        "colab": {
          "base_uri": "https://localhost:8080/"
        },
        "id": "PFWqwbcoYZRS",
        "outputId": "64dff0c3-0f52-4b7a-9f9e-27128e1d821e"
      },
      "execution_count": 63,
      "outputs": [
        {
          "output_type": "stream",
          "name": "stdout",
          "text": [
            "              precision    recall  f1-score   support\n",
            "\n",
            "           0       1.00      1.00      1.00        16\n",
            "           1       1.00      0.78      0.88        18\n",
            "           2       0.73      1.00      0.85        11\n",
            "\n",
            "    accuracy                           0.91        45\n",
            "   macro avg       0.91      0.93      0.91        45\n",
            "weighted avg       0.93      0.91      0.91        45\n",
            "\n"
          ]
        }
      ]
    },
    {
      "cell_type": "code",
      "source": [
        "confusion_matrix(ytest)"
      ],
      "metadata": {
        "id": "IVBst_5ZYa0t"
      },
      "execution_count": null,
      "outputs": []
    }
  ]
}